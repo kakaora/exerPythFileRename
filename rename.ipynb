{
 "cells": [
  {
   "cell_type": "code",
   "execution_count": 9,
   "source": [
    "import os\n",
    "\n",
    "os.chdir('/Users/TheKing/Dropbox/Academics/University of Utah/Clinical Informatics/Fall 2021/BMI 6017-090 Computer Science Fundamentals/myProject/exerPythFileRename/Videos/')\n",
    "\n",
    "print(os.getcwd())\n",
    "\n",
    "for f in os.listdir():\n",
    "    f_name, f_ext = os.path.splitext(f)\n",
    "    file_name, file_ext = os.path.splitext(f)\n",
    "    ##print(file_name.split('-'))\n",
    "    f_title, f_course, f_num = file_name.split('-')\n",
    "    f_title = f_title.strip()\n",
    "    f_course = f_course.strip()\n",
    "    f_num = f_num.strip()[1:].zfill(2)\n",
    "    new_name = '{}-{}{}'.format(f_num, f_title, f_ext)\n",
    "    os.rename(f, new_name)\n",
    "    print(file_name)\n",
    "    print(new_name)"
   ],
   "outputs": [
    {
     "output_type": "stream",
     "name": "stdout",
     "text": [
      "/Users/TheKing/Dropbox/Academics/University of Utah/Clinical Informatics/Fall 2021/BMI 6017-090 Computer Science Fundamentals/myProject/exerPythFileRename/Videos\n",
      "Venus - Our solar system - #3\n",
      "03-Venus.rtf\n",
      "Mercury - Our solar system - #2\n",
      "02-Mercury.rtf\n",
      "Pluto - Our solar system - #10\n",
      "10-Pluto.rtf\n",
      "Mars - Our solar system - #5\n",
      "05-Mars.rtf\n",
      "Jupiter - Our solar system - #6\n",
      "06-Jupiter.rtf\n",
      "Neptune - Our solar system - #8\n",
      "08-Neptune.rtf\n",
      "Uranus - Our solar system - #9\n",
      "09-Uranus.rtf\n",
      "Earth - Our solar system - #4\n",
      "04-Earth.rtf\n",
      "The Sun - Our solar system - #1\n",
      "01-The Sun.rtf\n",
      "Saturn - Our solar system - #7\n",
      "07-Saturn.rtf\n"
     ]
    }
   ],
   "metadata": {}
  },
  {
   "cell_type": "code",
   "execution_count": null,
   "source": [],
   "outputs": [],
   "metadata": {}
  }
 ],
 "metadata": {
  "orig_nbformat": 4,
  "language_info": {
   "name": "python",
   "version": "3.8.10",
   "mimetype": "text/x-python",
   "codemirror_mode": {
    "name": "ipython",
    "version": 3
   },
   "pygments_lexer": "ipython3",
   "nbconvert_exporter": "python",
   "file_extension": ".py"
  },
  "kernelspec": {
   "name": "python3",
   "display_name": "Python 3.8.10 64-bit ('Basics Package': conda)"
  },
  "interpreter": {
   "hash": "068578462703f97f56ebfd4586d755cffa1b85405eb52d4e660945a25dc02b85"
  }
 },
 "nbformat": 4,
 "nbformat_minor": 2
}